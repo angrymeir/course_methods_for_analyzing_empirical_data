{
 "cells": [
  {
   "cell_type": "markdown",
   "metadata": {},
   "source": [
    "# Assignment 4: Empirical Data: Distribution"
   ]
  },
  {
   "cell_type": "markdown",
   "metadata": {},
   "source": [
    "---\n",
    "## Background"
   ]
  },
  {
   "cell_type": "markdown",
   "metadata": {},
   "source": [
    "### Problem Analysis\n",
    "The assignment asks explain parametric and non-parametric methods, as well their differences and to check a variable for that requirements of parametric methods."
   ]
  },
  {
   "cell_type": "markdown",
   "metadata": {},
   "source": [
    "### What are the methods' use case?\n",
    "Both methods types are used in inferential statistics, which aims to draw conclusion about a population based on some given data.\n",
    "Application's can for example be:\n",
    "- Understand the relation between two variables\n",
    "- Test the significance between of the relation between multiple variables\n",
    "- Testing of hypotheses"
   ]
  },
  {
   "cell_type": "markdown",
   "metadata": {},
   "source": [
    "### The Methods\n",
    "##### Parametric Methods\n",
    "Parametric methods are used to get specific knowledge about a population by estimating statistical parameters of a population. Those methods are called parametric, since they make assumptions about the characteristics of the variables. For example, the distribution of variables should be characterized by parameters (mean, standard deviation) - for instance normal distribtuion. Parametric methods are very efficient and also powerful for estimations or hypothesis testing if their assumptions are met. The following assumptions are generic. Individual parametric methods might rely on further assumptions.\n",
    "\n",
    "**Assumptions**  \n",
    "- Variables can be described by parametrized distribution\n",
    "- Variables should be continuous\n",
    "- Independence of observations\n",
    "- The data does not contain outliers\n",
    "\n",
    "**Examples**  \n",
    "- Pearson correlation coefficient\n",
    "- T-test\n",
    "- ANOVA\n",
    "\n",
    "##### Non-parametric Methods\n",
    "Non-parametric methods aim to counter the downsides (assumptions) of parametric methods. Hence, they make less assumptions about the data. However, this comes at the cost of statistical power, consequently less insights into the data.\n",
    "\n",
    "**Assumptions**  \n",
    "- The data is at least ordinal, or categorical\n",
    "- Independence of observations\n",
    "\n",
    "**Examples**  \n",
    "- Spearman correlation coefficient\n",
    "- Chi square test\n",
    "- Wilcoxon signed-rank test\n",
    "\n",
    "\n",
    "##### Comparison\n",
    "- Parametric methods are more powerful i.e. they are more likely to detect a true effect (e.g. statistical significance) because they employ (and assume) more statistical information than non-parametric methods\n",
    "- Parametric methods work better on small sample sizes than non-parametric methods as they use additional knowledge from the assumptions\n",
    "- Non-parametric methods work better if the assumptions of parametric methods are violated\n",
    "- Non-parametric methods often give less insights since they often mask the data (e.g. spearman correlation coefficient employs ranks instead of the exact values)"
   ]
  },
  {
   "cell_type": "markdown",
   "metadata": {},
   "source": [
    "---\n",
    "## Solution"
   ]
  },
  {
   "cell_type": "code",
   "execution_count": 1,
   "metadata": {},
   "outputs": [
    {
     "data": {
      "text/html": [
       "<div>\n",
       "<style scoped>\n",
       "    .dataframe tbody tr th:only-of-type {\n",
       "        vertical-align: middle;\n",
       "    }\n",
       "\n",
       "    .dataframe tbody tr th {\n",
       "        vertical-align: top;\n",
       "    }\n",
       "\n",
       "    .dataframe thead th {\n",
       "        text-align: right;\n",
       "    }\n",
       "</style>\n",
       "<table border=\"1\" class=\"dataframe\">\n",
       "  <thead>\n",
       "    <tr style=\"text-align: right;\">\n",
       "      <th></th>\n",
       "      <th>Size in LOC</th>\n",
       "      <th>Time</th>\n",
       "      <th>Prod.</th>\n",
       "      <th>Faults</th>\n",
       "      <th>Faults/ KLOC</th>\n",
       "      <th>Pred. Size</th>\n",
       "      <th>Pred.</th>\n",
       "    </tr>\n",
       "  </thead>\n",
       "  <tbody>\n",
       "    <tr>\n",
       "      <th>0</th>\n",
       "      <td>839</td>\n",
       "      <td>3657</td>\n",
       "      <td>13.8</td>\n",
       "      <td>53</td>\n",
       "      <td>63.2</td>\n",
       "      <td>39.7</td>\n",
       "      <td>20.2</td>\n",
       "    </tr>\n",
       "    <tr>\n",
       "      <th>1</th>\n",
       "      <td>1249</td>\n",
       "      <td>3799</td>\n",
       "      <td>19.7</td>\n",
       "      <td>56</td>\n",
       "      <td>44.8</td>\n",
       "      <td>44.1</td>\n",
       "      <td>21.2</td>\n",
       "    </tr>\n",
       "    <tr>\n",
       "      <th>2</th>\n",
       "      <td>968</td>\n",
       "      <td>1680</td>\n",
       "      <td>34.6</td>\n",
       "      <td>71</td>\n",
       "      <td>73.3</td>\n",
       "      <td>29.1</td>\n",
       "      <td>25.1</td>\n",
       "    </tr>\n",
       "    <tr>\n",
       "      <th>3</th>\n",
       "      <td>996</td>\n",
       "      <td>4357</td>\n",
       "      <td>13.7</td>\n",
       "      <td>35</td>\n",
       "      <td>35.1</td>\n",
       "      <td>24.3</td>\n",
       "      <td>18.0</td>\n",
       "    </tr>\n",
       "    <tr>\n",
       "      <th>4</th>\n",
       "      <td>794</td>\n",
       "      <td>2011</td>\n",
       "      <td>23.7</td>\n",
       "      <td>32</td>\n",
       "      <td>40.3</td>\n",
       "      <td>26.0</td>\n",
       "      <td>13.2</td>\n",
       "    </tr>\n",
       "  </tbody>\n",
       "</table>\n",
       "</div>"
      ],
      "text/plain": [
       "   Size in LOC  Time  Prod.  Faults  Faults/ KLOC  Pred. Size  Pred.\n",
       "0          839  3657   13.8      53          63.2        39.7   20.2\n",
       "1         1249  3799   19.7      56          44.8        44.1   21.2\n",
       "2          968  1680   34.6      71          73.3        29.1   25.1\n",
       "3          996  4357   13.7      35          35.1        24.3   18.0\n",
       "4          794  2011   23.7      32          40.3        26.0   13.2"
      ]
     },
     "execution_count": 1,
     "metadata": {},
     "output_type": "execute_result"
    }
   ],
   "source": [
    "import pandas as pd\n",
    "from scipy.stats import shapiro\n",
    "\n",
    "\n",
    "df = pd.read_csv('data/table_4.csv', delimiter=\";\")\n",
    "df.drop(\"Subject\", axis=1, inplace=True)\n",
    "df.head()"
   ]
  },
  {
   "cell_type": "markdown",
   "metadata": {},
   "source": [
    "Since our goal is to ensure, that the variable `Size in LOC` (which I assume is meant with `LOC`) satisfies the assumptions of parametric tests.\n",
    "Hence, we first check if the data follows are parametric distribution (e.g. normal). For that purpose we employ the shapiro-wilk test for normality."
   ]
  },
  {
   "cell_type": "code",
   "execution_count": 2,
   "metadata": {},
   "outputs": [
    {
     "name": "stdout",
     "output_type": "stream",
     "text": [
      "Statistics=0.936, p=0.004\n",
      "Size in LOC does not look normal distributed (reject H0 because p-value is less than alpha)\n"
     ]
    }
   ],
   "source": [
    "# test df['Size in LOC'] for normality\n",
    "stat, p = shapiro(df['Size in LOC'])\n",
    "print('Statistics=%.3f, p=%.3f' % (stat, p))\n",
    "# interpret\n",
    "alpha = 0.05\n",
    "if p > alpha:\n",
    "    print('Size in LOC looks normal distributed (fail to reject H0 because p-value is greater than alpha)')\n",
    "else:\n",
    "    print('Size in LOC does not look normal distributed (reject H0 because p-value is less than alpha)')\n"
   ]
  },
  {
   "cell_type": "markdown",
   "metadata": {},
   "source": [
    "#### Summary\n",
    "- Hence, we know that LOC does not fullfill the requirements for a parametric test. One reason could be outliers in the data. But we don't investigate this further.  \n",
    "- To understand if we could apply non-parametric tests we'd have to evaluate (or rather estimate) the independence of observations (e.g. via the wald-wolfowitz test)."
   ]
  }
 ],
 "metadata": {
  "kernelspec": {
   "display_name": "Python 3",
   "language": "python",
   "name": "python3"
  },
  "language_info": {
   "codemirror_mode": {
    "name": "ipython",
    "version": 3
   },
   "file_extension": ".py",
   "mimetype": "text/x-python",
   "name": "python",
   "nbconvert_exporter": "python",
   "pygments_lexer": "ipython3",
   "version": "3.11.10"
  }
 },
 "nbformat": 4,
 "nbformat_minor": 2
}
