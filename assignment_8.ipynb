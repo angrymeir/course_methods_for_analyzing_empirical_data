{
 "cells": [
  {
   "cell_type": "markdown",
   "metadata": {},
   "source": [
    "# Assignment 8: Approximation of the Probability Distributions"
   ]
  },
  {
   "cell_type": "markdown",
   "metadata": {},
   "source": [
    "---\n",
    "## Background"
   ]
  },
  {
   "cell_type": "markdown",
   "metadata": {},
   "source": [
    "### Problem Analysis\n",
    "Data samples from real-world problems are often assumed to be drawn from the Gaussian distribution\n",
    "due to convenience (many statistical tests assume normality) or known Gaussian properties of the\n",
    "problem at hand. If a normality test is performed a priori to a particular statistical test and the result is\n",
    "negative, the corresponding non-parametric statistical test can be used instead. However, in some cases\n",
    "we would like to know more about the likely distribution of data than whether it is Gaussian or not. We\n",
    "are interested in determining the likely distribution of the data sample.\n",
    "1. Analyse the data samples in Table 9 and find a suitable method for approximating the probability\n",
    "distributions of the samples. Motivate the choice of method, identify the likely distributions, and\n",
    "discuss the validity of the selected method."
   ]
  },
  {
   "cell_type": "markdown",
   "metadata": {},
   "source": [
    "### The Methods\n",
    "#### Kolmogorov-Smirnov Test\n",
    "The kolmogorov-smirnov test is a non-parametric test to compare the cumulative distribution function of a sample with the CDF of another sample or idealize distribution (further referred to as expected).\n",
    "For that purpose, it calculates the greatest distance between the two CDF's.\n",
    "\n",
    "The hypotheses tested are:\n",
    "- $H_0:$ The sample in question comes from the expected distribution\n",
    "- $H:$ The sample does not come from the expected distribution\n",
    "\n",
    "Hence if the kolmogorov-smirnov test yields a p value $<0.05$, the sample is not from the expected distribution.\n",
    "\n",
    "**Assumptions**\n",
    "- Requires continuous data\n",
    "- Data must be independent and identically distributed\n",
    "- Sample size needs to be big for accurate results\n",
    "\n",
    "#### Chi-Square Goodness-of-Fit Test\n",
    "The Chi-Square Goodness-of-Fit Test assesses whether the observed frequency distribution of a sample matches a specified theoretical distribution. It compares observed (O_i) and expected (E_i) frequencies using the test statistic:\n",
    "$$X^2 = \\sum \\frac{(O_i - E_i)^2}{E_i}$$\n",
    "\n",
    "The hypotheses tested are:\n",
    "- $H_0:$ The sample in question comes from the expected distribution\n",
    "- $H:$ The sample does not come from the expected distribution\n",
    "\n",
    "Hence if the chi-square goodness-of-fit test yields a p value $<0.05$, the sample is not from the expected distribution.\n",
    "\n",
    "**Assumptions**\n",
    "- Requires categorical data (but continuous data can be grouped into bins)\n",
    "- Data must be independent and identically distributed\n",
    "\n",
    "#### Akaike Information Criterion\n",
    "The Akaike Information Criterion (AIC) is a method for model selection. It quantifies the trade-off between the goodness of fit of a statistical model and the model’s complexity. AIC is calculated as:\n",
    "$$AIC = 2k - 2ln(L)$$\n",
    "with:\n",
    "- $k:$ Number of paramters in the model\n",
    "- $ln(L)$: Log-likehood of model\n",
    "\n",
    "The lower the AIC value, the better the traceoff between a good fit to the data and simplicity of the model.\n",
    "\n",
    "**Assumptions**\n",
    "- The dataset used for comparison must be the same across all models\n",
    "- Data must be independent and identically distributed\n",
    "- The sample size should be large enough for reliable maximum likelihood estimation\n"
   ]
  },
  {
   "cell_type": "markdown",
   "metadata": {},
   "source": [
    "---\n",
    "## Solution"
   ]
  },
  {
   "cell_type": "code",
   "execution_count": 158,
   "metadata": {},
   "outputs": [
    {
     "data": {
      "text/html": [
       "<div>\n",
       "<style scoped>\n",
       "    .dataframe tbody tr th:only-of-type {\n",
       "        vertical-align: middle;\n",
       "    }\n",
       "\n",
       "    .dataframe tbody tr th {\n",
       "        vertical-align: top;\n",
       "    }\n",
       "\n",
       "    .dataframe thead th {\n",
       "        text-align: right;\n",
       "    }\n",
       "</style>\n",
       "<table border=\"1\" class=\"dataframe\">\n",
       "  <thead>\n",
       "    <tr style=\"text-align: right;\">\n",
       "      <th></th>\n",
       "      <th>Observation</th>\n",
       "      <th>Measure1</th>\n",
       "      <th>Measure2</th>\n",
       "      <th>Measure3</th>\n",
       "      <th>Measure4</th>\n",
       "    </tr>\n",
       "  </thead>\n",
       "  <tbody>\n",
       "    <tr>\n",
       "      <th>0</th>\n",
       "      <td>1</td>\n",
       "      <td>1</td>\n",
       "      <td>2,811</td>\n",
       "      <td>-1,385</td>\n",
       "      <td>54,151</td>\n",
       "    </tr>\n",
       "    <tr>\n",
       "      <th>1</th>\n",
       "      <td>2</td>\n",
       "      <td>2</td>\n",
       "      <td>10,357</td>\n",
       "      <td>0,038</td>\n",
       "      <td>70,440</td>\n",
       "    </tr>\n",
       "    <tr>\n",
       "      <th>2</th>\n",
       "      <td>3</td>\n",
       "      <td>3</td>\n",
       "      <td>4,970</td>\n",
       "      <td>-0,763</td>\n",
       "      <td>75,764</td>\n",
       "    </tr>\n",
       "    <tr>\n",
       "      <th>3</th>\n",
       "      <td>4</td>\n",
       "      <td>2</td>\n",
       "      <td>12,147</td>\n",
       "      <td>0,212</td>\n",
       "      <td>69,844</td>\n",
       "    </tr>\n",
       "    <tr>\n",
       "      <th>4</th>\n",
       "      <td>5</td>\n",
       "      <td>2</td>\n",
       "      <td>36,921</td>\n",
       "      <td>1,426</td>\n",
       "      <td>61,136</td>\n",
       "    </tr>\n",
       "  </tbody>\n",
       "</table>\n",
       "</div>"
      ],
      "text/plain": [
       "   Observation  Measure1 Measure2 Measure3 Measure4\n",
       "0            1         1    2,811   -1,385   54,151\n",
       "1            2         2   10,357    0,038   70,440\n",
       "2            3         3    4,970   -0,763   75,764\n",
       "3            4         2   12,147    0,212   69,844\n",
       "4            5         2   36,921    1,426   61,136"
      ]
     },
     "execution_count": 158,
     "metadata": {},
     "output_type": "execute_result"
    }
   ],
   "source": [
    "import pandas as pd\n",
    "import scipy.stats as stats\n",
    "import numpy as np\n",
    "\n",
    "\n",
    "df_9 = pd.read_csv('data/table_9.csv', delimiter=\";\")\n",
    "df_9.head()"
   ]
  },
  {
   "cell_type": "code",
   "execution_count": 159,
   "metadata": {},
   "outputs": [
    {
     "data": {
      "text/plain": [
       "(1000, 5)"
      ]
     },
     "execution_count": 159,
     "metadata": {},
     "output_type": "execute_result"
    }
   ],
   "source": [
    "df_9.shape"
   ]
  },
  {
   "cell_type": "code",
   "execution_count": 160,
   "metadata": {},
   "outputs": [],
   "source": [
    "# convert values\n",
    "df_9['Measure1'] = df_9['Measure1'].astype(int)\n",
    "df_9['Measure2'] = df_9['Measure2'].apply(lambda x: x.replace(',', '.')).astype(float)\n",
    "df_9['Measure3'] = df_9['Measure3'].apply(lambda x: x.replace(',', '.')).astype(float)\n",
    "df_9['Measure4'] = df_9['Measure4'].apply(lambda x: x.replace(',', '.')).astype(float)"
   ]
  },
  {
   "cell_type": "markdown",
   "metadata": {},
   "source": [
    "### 8.1\n",
    "\n",
    "To analyse the distributions we'll first start with a histogram plot of the variables.  \n",
    "Afterward we'll use the Kolmogorov-Smirnov test to understand how well the variable's distribution fits the assumed distribution"
   ]
  },
  {
   "cell_type": "code",
   "execution_count": 161,
   "metadata": {},
   "outputs": [
    {
     "data": {
      "text/plain": [
       "array([[<Axes: title={'center': 'Measure4'}>]], dtype=object)"
      ]
     },
     "execution_count": 161,
     "metadata": {},
     "output_type": "execute_result"
    },
    {
     "data": {
      "image/png": "[encoded data removed]",
      "text/plain": [
       "<Figure size 300x200 with 1 Axes>"
      ]
     },
     "metadata": {},
     "output_type": "display_data"
    },
    {
     "data": {
      "image/png": "[encoded data removed]",
      "text/plain": [
       "<Figure size 300x200 with 1 Axes>"
      ]
     },
     "metadata": {},
     "output_type": "display_data"
    },
    {
     "data": {
      "image/png": "[encoded data removed]",
      "text/plain": [
       "<Figure size 300x200 with 1 Axes>"
      ]
     },
     "metadata": {},
     "output_type": "display_data"
    },
    {
     "data": {
      "image/png": "[encoded data removed]",
      "text/plain": [
       "<Figure size 300x200 with 1 Axes>"
      ]
     },
     "metadata": {},
     "output_type": "display_data"
    }
   ],
   "source": [
    "# histogram plot for each variable\n",
    "df_9.hist(column=['Measure1'], bins=20, figsize=(3, 2))\n",
    "df_9.hist(column=['Measure2'], bins=50, figsize=(3, 2))\n",
    "df_9.hist(column=['Measure3'], bins=50, figsize=(3, 2))\n",
    "df_9.hist(column=['Measure4'], bins=50, figsize=(3, 2))"
   ]
  },
  {
   "cell_type": "markdown",
   "metadata": {},
   "source": [
    "Visual analysis of the variables yields the following conclusions:\n",
    "\n",
    "### Measure 1\n",
    "- The variable peaks around 2-4: So most data is concentrated in this range.\n",
    "- The variable has a right-skew: The tail extends more to the right (higher values) than the left, so the variable is not symmetric.\n",
    "- Hence the variable follows either a gamma distribution or a log-normal distribution. \n",
    "- For the statistical validation we will use the Chi-Square Goodness-of-Fit Test since the variable consists of discrete values violating the continuous assumption of the kolmogorov-smirnov test.\n",
    "\n",
    "### Measure 2\n",
    "- The variable is highly right-skewed: Most data values are concentrated close to 0, with a long tail extending to the right.\n",
    "- Non-negative values: The data is strictly non-negative, with a close to 0.\n",
    "- Hence the variable follows either an exponential distribution, a gamma distribution or a log-normal distribution.\n",
    "- For the statistical validation we will use the kolmogorov-smirnov test.\n",
    "\n",
    "### Measure 3\n",
    "- The variable has a single peak: Indicating that the data is concentrated in this range.\n",
    "- Symmetrical Shape: The data is symmetrically distributed around the mean (approx 0).\n",
    "- Smooth Tails: The frequency decreases smoothly as values move away from the center in both directions similarly.\n",
    "- Hence the variable follows a normal distribution.\n",
    "- For the statistical validation we will use the kolmogorov-smirnov test.\n",
    "\n",
    "### Measure 4\n",
    "- Uniform Shape: The heights of the bars are somewhat consistent across the range of values, with no central peak or skew.\n",
    "- Range: The data seems evenly distributed across the interval (60-100).\n",
    "- Hence the variable follows a uniform distribution.\n",
    "- For the statistical validation we will use the kolmogorov-smirnov test."
   ]
  },
  {
   "cell_type": "markdown",
   "metadata": {},
   "source": [
    "## Measure 1"
   ]
  },
  {
   "cell_type": "code",
   "execution_count": 162,
   "metadata": {},
   "outputs": [],
   "source": [
    "def validate_distribution_for_measure_chi_squared(distribution, variable):\n",
    "    # fit the gamma distribution based on Measure 1\n",
    "    alpha, *bla = distribution.fit(variable)\n",
    "\n",
    "    # calculate the expected frequencies\n",
    "    observed_values, bin_edges = np.histogram(variable, bins=10)\n",
    "    cumulative_prob = distribution.cdf(bin_edges, alpha, *bla)\n",
    "    expected_values = np.diff(cumulative_prob) * df_9.shape[0]\n",
    "    expected_values *= observed_values.sum() / expected_values.sum()\n",
    "\n",
    "    # calculate the chi-square statistic\n",
    "    chi_square_stat, p_value = stats.chisquare(observed_values, expected_values)\n",
    "    if p_value < 0.05:\n",
    "        return False, chi_square_stat, p_value\n",
    "    else:\n",
    "        return True, chi_square_stat, p_value"
   ]
  },
  {
   "cell_type": "markdown",
   "metadata": {},
   "source": [
    "Initially, I ran this code only for the gamma and the lognorm distribution. However, since none of them seemed appropriate, I extended it to the following other distributions:\n",
    "- normal distribution\n",
    "- exponentially modified normal\n",
    "- exponentially modified weibull\n",
    "- weibull minimum/maximum"
   ]
  },
  {
   "cell_type": "code",
   "execution_count": 163,
   "metadata": {},
   "outputs": [
    {
     "name": "stdout",
     "output_type": "stream",
     "text": [
      "The null hypothesis (Measure 1 can be approximated with a <scipy.stats._continuous_distns.gamma_gen object at 0x1432b5810> distribution) is rejected: p-value:0.00012622780489905403, difference: 33.140631324708345\n",
      "The null hypothesis (Measure 1 can be approximated with a <scipy.stats._continuous_distns.lognorm_gen object at 0x1432dcd90> distribution) is rejected: p-value:0.0, difference: 121736.40609900793\n",
      "The null hypothesis (Measure 1 can be approximated with a <scipy.stats._continuous_distns.norm_gen object at 0x143281210> distribution) is rejected: p-value:0.0006993362877563109, difference: 28.803676057856098\n",
      "The null hypothesis (Measure 1 can be approximated with a <scipy.stats._continuous_distns.exponnorm_gen object at 0x1373b5590> distribution) is rejected: p-value:0.003210327761864278, difference: 24.791802012796037\n",
      "The null hypothesis (Measure 1 can be approximated with a <scipy.stats._continuous_distns.uniform_gen object at 0x144cc77d0> distribution) is rejected: p-value:2.9679124700584382e-154, difference: 743.5600000000001\n"
     ]
    },
    {
     "name": "stderr",
     "output_type": "stream",
     "text": [
      "/opt/homebrew/lib/python3.11/site-packages/scipy/stats/_continuous_distns.py:6120: RuntimeWarning: overflow encountered in divide\n",
      "  return np.sum((1 + np.log(shifted/scale)/shape**2)/shifted)\n",
      "/opt/homebrew/lib/python3.11/site-packages/numpy/core/fromnumeric.py:88: RuntimeWarning: overflow encountered in reduce\n",
      "  return ufunc.reduce(obj, axis, dtype, out, **passkwargs)\n"
     ]
    }
   ],
   "source": [
    "for stat in [stats.gamma, stats.lognorm, stats.norm, stats.exponnorm, stats.uniform]:\n",
    "    accept, stat_res, p = validate_distribution_for_measure_chi_squared(stat, df_9['Measure1'])\n",
    "    if accept:\n",
    "        print('The null hypothesis (Measure 1 can be approximated with a {} distribution) is accepted: p-value:{}, difference: {}'.format(stat, p, stat_res))\n",
    "    else:\n",
    "        print('The null hypothesis (Measure 1 can be approximated with a {} distribution) is rejected: p-value:{}, difference: {}'.format(stat, p, stat_res))"
   ]
  },
  {
   "cell_type": "markdown",
   "metadata": {},
   "source": [
    "Since the distribution does not fit any of those distributions, we'll now the akaike information criterion to analyze which of the model will fit Measurement 1 the best (even though I) know, that none of them will fit well). I could also go for the bayesian information criterion, but it penalizes heavier than the akaike information criterion."
   ]
  },
  {
   "cell_type": "code",
   "execution_count": 164,
   "metadata": {},
   "outputs": [
    {
     "name": "stdout",
     "output_type": "stream",
     "text": [
      "AIC Results:\n",
      "                                        Distribution           AIC\n",
      "0  <scipy.stats._continuous_distns.gamma_gen obje...   3779.979411\n",
      "1  <scipy.stats._continuous_distns.lognorm_gen ob... -47799.219676\n",
      "2  <scipy.stats._continuous_distns.norm_gen objec...   3839.206072\n",
      "3  <scipy.stats._continuous_distns.exponnorm_gen ...   3804.230540\n",
      "4  <scipy.stats._continuous_distns.uniform_gen ob...   4398.449155\n",
      "\n",
      "Best-Fitting Distribution:\n",
      "Distribution    <scipy.stats._continuous_distns.lognorm_gen ob...\n",
      "AIC                                                 -47799.219676\n",
      "Name: 1, dtype: object\n"
     ]
    }
   ],
   "source": [
    "results = []\n",
    "for distribution in [stats.gamma, stats.lognorm, stats.norm, stats.exponnorm, stats.uniform]:\n",
    "    try:\n",
    "        # Fit the distribution to the data\n",
    "        params = distribution.fit(df_9['Measure1'])\n",
    "        # Calculate log-likelihood\n",
    "        log_likelihood = np.sum(distribution.logpdf(df_9['Measure1'], *params))\n",
    "        # Number of parameters in the distribution\n",
    "        k = len(params)\n",
    "        # Compute AIC\n",
    "        aic = 2 * k - 2 * log_likelihood\n",
    "        # Append results\n",
    "        results.append({\"Distribution\": distribution, \"AIC\": aic})\n",
    "    except Exception as e:\n",
    "        print(f\"Could not fit {distribution}: {e}\")\n",
    "\n",
    "# Convert results to DataFrame\n",
    "results_df = pd.DataFrame(results)\n",
    "\n",
    "# Find the best-fitting distribution\n",
    "best_fit = results_df.loc[results_df['AIC'].idxmin()]\n",
    "\n",
    "# Display the results\n",
    "print(\"AIC Results:\")\n",
    "print(results_df)\n",
    "print(\"\\nBest-Fitting Distribution:\")\n",
    "print(best_fit)"
   ]
  },
  {
   "cell_type": "markdown",
   "metadata": {},
   "source": [
    "### Interpretation\n",
    "- From the AIC values its seems lognorm would be the best fitting distribution, however the chi-square goodness-of-fit difference values indicate differently.\n",
    "- Since I couldn't figure out why the values for lognorm are negative (and hence seem to be the best) I'll go with the second best model, which would be the Gamma distribution"
   ]
  },
  {
   "cell_type": "markdown",
   "metadata": {},
   "source": [
    "## Measure 2"
   ]
  },
  {
   "cell_type": "code",
   "execution_count": 165,
   "metadata": {},
   "outputs": [],
   "source": [
    "def validate_distribution_for_measure_kolmogorov_smirnov(distribution, variable):\n",
    "    # fit the gamma distribution based on Measure 1\n",
    "    alpha, *bla = distribution.fit(variable)\n",
    "\n",
    "    # calculate the expected frequencies\n",
    "    observed_values, bin_edges = np.histogram(variable, bins=10)\n",
    "    cumulative_prob = distribution.cdf(bin_edges, alpha, *bla)\n",
    "    expected_values = np.diff(cumulative_prob) * df_9.shape[0]\n",
    "    expected_values *= observed_values.sum() / expected_values.sum()\n",
    "\n",
    "    # calculate the kolmorogov-smirnov statistic\n",
    "    ks_stat, p_value = stats.kstest(variable, distribution.cdf, args=(alpha, *bla))\n",
    "    if p_value < 0.05:\n",
    "        return False, ks_stat, p_value\n",
    "    else:\n",
    "        return True, ks_stat, p_value"
   ]
  },
  {
   "cell_type": "code",
   "execution_count": 166,
   "metadata": {},
   "outputs": [
    {
     "name": "stdout",
     "output_type": "stream",
     "text": [
      "The null hypothesis (Measure 2 can be approximated with a <scipy.stats._continuous_distns.expon_gen object at 0x143293510> distribution) is rejected: p-value:9.98405060799339e-05, difference: 0.07017698426642133\n",
      "The null hypothesis (Measure 2 can be approximated with a <scipy.stats._continuous_distns.gamma_gen object at 0x1432b5810> distribution) is rejected: p-value:0.0002052722640542186, difference: 0.06757202947575847\n",
      "The null hypothesis (Measure 2 can be approximated with a <scipy.stats._continuous_distns.lognorm_gen object at 0x1432dcd90> distribution) is accepted: p-value:0.997708303783065, difference: 0.012313530667442868\n"
     ]
    }
   ],
   "source": [
    "for distr in [stats.expon, stats.gamma, stats.lognorm]:\n",
    "    accept, diff, p = validate_distribution_for_measure_kolmogorov_smirnov(distr, df_9['Measure2'])\n",
    "    if accept:\n",
    "        print('The null hypothesis (Measure 2 can be approximated with a {} distribution) is accepted: p-value:{}, difference: {}'.format(distr, p, diff))\n",
    "    else:\n",
    "        print('The null hypothesis (Measure 2 can be approximated with a {} distribution) is rejected: p-value:{}, difference: {}'.format(distr, p, diff))"
   ]
  },
  {
   "cell_type": "markdown",
   "metadata": {},
   "source": [
    "### Interpretation\n",
    "- The variable can be described with a Log-Norm distribution"
   ]
  },
  {
   "cell_type": "markdown",
   "metadata": {},
   "source": [
    "## Measure 3"
   ]
  },
  {
   "cell_type": "code",
   "execution_count": 167,
   "metadata": {},
   "outputs": [
    {
     "name": "stdout",
     "output_type": "stream",
     "text": [
      "The null hypothesis (Measure 3 can be approximated with a <scipy.stats._continuous_distns.norm_gen object at 0x143281210> distribution) is accepted: p-value:0.9895847648687272, difference: 0.013833425273020894\n"
     ]
    }
   ],
   "source": [
    "for distr in [stats.norm]:\n",
    "    accept, diff, p = validate_distribution_for_measure_kolmogorov_smirnov(distr, df_9['Measure3'])\n",
    "    if accept:\n",
    "        print('The null hypothesis (Measure 3 can be approximated with a {} distribution) is accepted: p-value:{}, difference: {}'.format(distr, p, diff))\n",
    "    else:\n",
    "        print('The null hypothesis (Measure 3 can be approximated with a {} distribution) is rejected: p-value:{}, difference: {}'.format(distr, p, diff))"
   ]
  },
  {
   "cell_type": "markdown",
   "metadata": {},
   "source": [
    "### Interpretation\n",
    "- The variable can be described with a normal distribution"
   ]
  },
  {
   "cell_type": "markdown",
   "metadata": {},
   "source": [
    "## Measure 4"
   ]
  },
  {
   "cell_type": "code",
   "execution_count": 168,
   "metadata": {},
   "outputs": [
    {
     "name": "stdout",
     "output_type": "stream",
     "text": [
      "The null hypothesis (Measure 4 can be approximated with a <scipy.stats._continuous_distns.uniform_gen object at 0x144cc77d0> distribution) is accepted: p-value:0.5107726146704352, difference: 0.025789727963434483\n"
     ]
    }
   ],
   "source": [
    "for distr in [stats.uniform]:\n",
    "    accept, diff, p = validate_distribution_for_measure_kolmogorov_smirnov(distr, df_9['Measure4'])\n",
    "    if accept:\n",
    "        print('The null hypothesis (Measure 4 can be approximated with a {} distribution) is accepted: p-value:{}, difference: {}'.format(distr, p, diff))\n",
    "    else:\n",
    "        print('The null hypothesis (Measure 4 can be approximated with a {} distribution) is rejected: p-value:{}, difference: {}'.format(distr, p, diff))"
   ]
  },
  {
   "cell_type": "markdown",
   "metadata": {},
   "source": [
    "### Interpretation\n",
    "- The variable can be described with a uniform distribution"
   ]
  }
 ],
 "metadata": {
  "kernelspec": {
   "display_name": "Python 3",
   "language": "python",
   "name": "python3"
  },
  "language_info": {
   "codemirror_mode": {
    "name": "ipython",
    "version": 3
   },
   "file_extension": ".py",
   "mimetype": "text/x-python",
   "name": "python",
   "nbconvert_exporter": "python",
   "pygments_lexer": "ipython3",
   "version": "3.11.10"
  }
 },
 "nbformat": 4,
 "nbformat_minor": 2
}
