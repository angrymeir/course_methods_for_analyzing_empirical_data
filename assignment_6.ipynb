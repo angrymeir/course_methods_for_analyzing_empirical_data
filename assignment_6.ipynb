{
 "cells": [
  {
   "cell_type": "markdown",
   "metadata": {},
   "source": [
    "# Assignment 6: Differences between empirical data sets"
   ]
  },
  {
   "cell_type": "markdown",
   "metadata": {},
   "source": [
    "---\n",
    "## Background"
   ]
  },
  {
   "cell_type": "markdown",
   "metadata": {},
   "source": [
    "### Problem Analysis\n",
    "1. Analyse the differences between different perspectives using the data in tables 6. Do the different perspectives identify different defects, i.e. with a statistically significant difference?\n",
    "2. How can assumed differences between the documents be analysed using the information from tables 6 and 7? Analyse if the outcome from the two documents is different. What are the implications if there happens to be a difference between the documents?\n",
    "3. Are there significant differences between the perspectives in terms of outcome? Use the data in table"
   ]
  },
  {
   "cell_type": "markdown",
   "metadata": {},
   "source": [
    "### The Methods\n",
    "##### Kruskal-Wallis\n",
    "The Kruskal-Wallis test is a non-parametric method for testing whether there are statistically significant differences between the medians of three or more independent groups. It is an alternative to one-way ANOVA when the assumption of normality is not met.\n",
    "\n",
    "**Assumptions**  \n",
    "- The samples are independent of each other\n",
    "- The data in each group is ordinal or continuous\n",
    "\n",
    "##### Mann Whitney U\n",
    "The Mann-Whitney U test is a non-parametric test used to determine if there is a difference between two independent groups. It is an alternative to the independent t-test when data do not meet the assumption of normality.\n",
    "\n",
    "**Assumptions**\n",
    "- The two samples are independent of each other\n",
    "- The data are ordinal or continuous"
   ]
  },
  {
   "cell_type": "markdown",
   "metadata": {},
   "source": [
    "---\n",
    "## Solution"
   ]
  },
  {
   "cell_type": "code",
   "execution_count": 2,
   "metadata": {},
   "outputs": [
    {
     "data": {
      "text/html": [
       "<div>\n",
       "<style scoped>\n",
       "    .dataframe tbody tr th:only-of-type {\n",
       "        vertical-align: middle;\n",
       "    }\n",
       "\n",
       "    .dataframe tbody tr th {\n",
       "        vertical-align: top;\n",
       "    }\n",
       "\n",
       "    .dataframe thead th {\n",
       "        text-align: right;\n",
       "    }\n",
       "</style>\n",
       "<table border=\"1\" class=\"dataframe\">\n",
       "  <thead>\n",
       "    <tr style=\"text-align: right;\">\n",
       "      <th></th>\n",
       "      <th>Defect number</th>\n",
       "      <th>User</th>\n",
       "      <th>Tester</th>\n",
       "      <th>Designer</th>\n",
       "      <th>User.1</th>\n",
       "      <th>Tester.1</th>\n",
       "      <th>Designer.1</th>\n",
       "    </tr>\n",
       "  </thead>\n",
       "  <tbody>\n",
       "    <tr>\n",
       "      <th>0</th>\n",
       "      <td>1</td>\n",
       "      <td>2</td>\n",
       "      <td>1</td>\n",
       "      <td>2</td>\n",
       "      <td>1</td>\n",
       "      <td>1</td>\n",
       "      <td>3</td>\n",
       "    </tr>\n",
       "    <tr>\n",
       "      <th>1</th>\n",
       "      <td>2</td>\n",
       "      <td>4</td>\n",
       "      <td>2</td>\n",
       "      <td>3</td>\n",
       "      <td>2</td>\n",
       "      <td>4</td>\n",
       "      <td>4</td>\n",
       "    </tr>\n",
       "    <tr>\n",
       "      <th>2</th>\n",
       "      <td>3</td>\n",
       "      <td>0</td>\n",
       "      <td>3</td>\n",
       "      <td>1</td>\n",
       "      <td>0</td>\n",
       "      <td>0</td>\n",
       "      <td>2</td>\n",
       "    </tr>\n",
       "    <tr>\n",
       "      <th>3</th>\n",
       "      <td>4</td>\n",
       "      <td>0</td>\n",
       "      <td>1</td>\n",
       "      <td>1</td>\n",
       "      <td>3</td>\n",
       "      <td>2</td>\n",
       "      <td>4</td>\n",
       "    </tr>\n",
       "    <tr>\n",
       "      <th>4</th>\n",
       "      <td>5</td>\n",
       "      <td>3</td>\n",
       "      <td>2</td>\n",
       "      <td>2</td>\n",
       "      <td>0</td>\n",
       "      <td>0</td>\n",
       "      <td>0</td>\n",
       "    </tr>\n",
       "  </tbody>\n",
       "</table>\n",
       "</div>"
      ],
      "text/plain": [
       "   Defect number  User  Tester  Designer User.1 Tester.1 Designer.1\n",
       "0              1     2       1         2      1        1          3\n",
       "1              2     4       2         3      2        4          4\n",
       "2              3     0       3         1      0        0          2\n",
       "3              4     0       1         1      3        2          4\n",
       "4              5     3       2         2      0        0          0"
      ]
     },
     "execution_count": 2,
     "metadata": {},
     "output_type": "execute_result"
    }
   ],
   "source": [
    "import pandas as pd\n",
    "import scipy.stats as stats\n",
    "import numpy as np\n",
    "\n",
    "\n",
    "df_6 = pd.read_csv('data/table_6.csv', delimiter=\";\", header=[1])\n",
    "df_6.head()"
   ]
  },
  {
   "cell_type": "code",
   "execution_count": 27,
   "metadata": {},
   "outputs": [
    {
     "data": {
      "text/html": [
       "<div>\n",
       "<style scoped>\n",
       "    .dataframe tbody tr th:only-of-type {\n",
       "        vertical-align: middle;\n",
       "    }\n",
       "\n",
       "    .dataframe tbody tr th {\n",
       "        vertical-align: top;\n",
       "    }\n",
       "\n",
       "    .dataframe thead th {\n",
       "        text-align: right;\n",
       "    }\n",
       "</style>\n",
       "<table border=\"1\" class=\"dataframe\">\n",
       "  <thead>\n",
       "    <tr style=\"text-align: right;\">\n",
       "      <th></th>\n",
       "      <th>Id</th>\n",
       "      <th>Perspective</th>\n",
       "      <th>Document</th>\n",
       "      <th>Time</th>\n",
       "      <th>Defects</th>\n",
       "      <th>Efficiency</th>\n",
       "      <th>Rate</th>\n",
       "    </tr>\n",
       "  </thead>\n",
       "  <tbody>\n",
       "    <tr>\n",
       "      <th>0</th>\n",
       "      <td>1</td>\n",
       "      <td>U</td>\n",
       "      <td>ATM</td>\n",
       "      <td>187</td>\n",
       "      <td>8</td>\n",
       "      <td>2.567</td>\n",
       "      <td>0.276</td>\n",
       "    </tr>\n",
       "    <tr>\n",
       "      <th>1</th>\n",
       "      <td>2</td>\n",
       "      <td>D</td>\n",
       "      <td>PG</td>\n",
       "      <td>150</td>\n",
       "      <td>8</td>\n",
       "      <td>3.200</td>\n",
       "      <td>0.267</td>\n",
       "    </tr>\n",
       "    <tr>\n",
       "      <th>2</th>\n",
       "      <td>3</td>\n",
       "      <td>T</td>\n",
       "      <td>ATM</td>\n",
       "      <td>165</td>\n",
       "      <td>9</td>\n",
       "      <td>3.273</td>\n",
       "      <td>0.310</td>\n",
       "    </tr>\n",
       "    <tr>\n",
       "      <th>3</th>\n",
       "      <td>4</td>\n",
       "      <td>U</td>\n",
       "      <td>PG</td>\n",
       "      <td>185</td>\n",
       "      <td>11</td>\n",
       "      <td>3.568</td>\n",
       "      <td>0.367</td>\n",
       "    </tr>\n",
       "    <tr>\n",
       "      <th>4</th>\n",
       "      <td>5</td>\n",
       "      <td>D</td>\n",
       "      <td>ATM</td>\n",
       "      <td>155</td>\n",
       "      <td>8</td>\n",
       "      <td>3.097</td>\n",
       "      <td>0.276</td>\n",
       "    </tr>\n",
       "  </tbody>\n",
       "</table>\n",
       "</div>"
      ],
      "text/plain": [
       "   Id Perspective Document  Time  Defects  Efficiency   Rate\n",
       "0   1           U      ATM   187        8       2.567  0.276\n",
       "1   2           D       PG   150        8       3.200  0.267\n",
       "2   3           T      ATM   165        9       3.273  0.310\n",
       "3   4           U       PG   185       11       3.568  0.367\n",
       "4   5           D      ATM   155        8       3.097  0.276"
      ]
     },
     "execution_count": 27,
     "metadata": {},
     "output_type": "execute_result"
    }
   ],
   "source": [
    "df_7 = pd.read_csv('data/table_7.csv', delimiter=\";\")\n",
    "df_7.head()"
   ]
  },
  {
   "cell_type": "markdown",
   "metadata": {},
   "source": [
    "### 6.1 Is there a statistically significant difference between the three perspectives?\n",
    "\n",
    "1. Concatenate both documents, as we don't care about the difference between documents but rather between perspectives. Since the defects are not the same for both documents, it would not make sense to just sum them up per defect number.\n",
    "2. Given that we look at the counts, which are small discrete values (0 to 5), normality might become a problem and determining the variance might also become a challenge. Hence we focus directly on non-parametric tests. Two of them would be kruskal-wallis and chi-squared test of independence. Since the chi-squared only works for 2 variables, we would have to perform 3 tests. Instead we use the kruskal-wallis test, which directly works with three variables."
   ]
  },
  {
   "cell_type": "code",
   "execution_count": 4,
   "metadata": {},
   "outputs": [
    {
     "data": {
      "text/plain": [
       "(59, 3)"
      ]
     },
     "execution_count": 4,
     "metadata": {},
     "output_type": "execute_result"
    }
   ],
   "source": [
    "df_6_1 = df_6[['User', 'Tester', 'Designer']]\n",
    "df_6_2 = df_6[['User.1', 'Tester.1', 'Designer.1']].rename(columns={'User.1': 'User', 'Tester.1': 'Tester', 'Designer.1': 'Designer'})\n",
    "df = pd.concat([df_6_1, df_6_2], ignore_index=True)\n",
    "df.drop(df.tail(1).index, inplace=True)\n",
    "df = df.astype(int)\n",
    "df.shape"
   ]
  },
  {
   "cell_type": "code",
   "execution_count": 5,
   "metadata": {},
   "outputs": [
    {
     "name": "stdout",
     "output_type": "stream",
     "text": [
      "Significance level:  0.05\n",
      "H statistics: 0.6018682913012375\n",
      "p-value:  0.7401265116917417\n",
      "Fail to reject H0: The perspective has no impact on the identification of defects\n"
     ]
    }
   ],
   "source": [
    "# perform kruskal-wallis test\n",
    "h_stats, p = stats.kruskal(df['User'], df['Tester'], df['Designer'])\n",
    "\n",
    "# interpret\n",
    "alpha = 0.05\n",
    "print(\"Significance level: \", alpha)\n",
    "print('H statistics:', h_stats)\n",
    "print(\"p-value: \", p)\n",
    "if p > alpha:\n",
    "    print(\"Fail to reject H0: The perspective has no impact on the identification of defects\")\n",
    "else:\n",
    "    print(\"Reject H0: The perspective has an impact on the identification of defects\")"
   ]
  },
  {
   "cell_type": "markdown",
   "metadata": {},
   "source": [
    "**Interpretation**  \n",
    "Even though the h statistics is high (0.6), we fail to reject the null hypothesis (p-value=0.74 > 0.05). Hence there doesn't seem to be a statistically significant difference between the three perspectives."
   ]
  },
  {
   "cell_type": "markdown",
   "metadata": {},
   "source": [
    "### 6.2 Are the documents statistically significantly different?\n",
    "Since we aim to evaluate, whether both documents are statistically significant different (independent), we evaluate for each perspective the statistical difference between document PG and ATM (for Table 6). For that purpose, we could use the independent t-test, however, since it is a parameterized approach, we would need to consider normality etc. Instead, we employ the Mann-Whitney U Test as the unparamterized alternative to compare two variables for independence."
   ]
  },
  {
   "cell_type": "code",
   "execution_count": 16,
   "metadata": {},
   "outputs": [
    {
     "name": "stdout",
     "output_type": "stream",
     "text": [
      "Mann-Whitney U Test for perspective User in PG document and User in ATM document: U-statistics=459.0, p-value = 0.5349541850206717\n",
      "Mann-Whitney U Test for perspective Tester in PG document and Tester in ATM document: U-statistics=404.0, p-value = 0.7932018367857695\n",
      "Mann-Whitney U Test for perspective Designer in PG document and Designer in ATM document: U-statistics=364.0, p-value = 0.3663125334185646\n"
     ]
    }
   ],
   "source": [
    "# use mann-whitney u test to compare User and User.1 from df_6\n",
    "df_6_local = df_6.drop(df_6.tail(1).index, inplace=False).astype(int)\n",
    "\n",
    "for col in ['User', 'Tester', 'Designer']:\n",
    "    u, p = stats.mannwhitneyu(df_6_local[col], df_6_local[col + '.1'])\n",
    "    print(f\"Mann-Whitney U Test for perspective {col} in PG document and {col} in ATM document: U-statistics={u}, p-value = {p}\")"
   ]
  },
  {
   "cell_type": "markdown",
   "metadata": {},
   "source": [
    "**Interpretation**  \n",
    "For each perspective, the difference between the documents is not statistically significant, as all p-values are way above 0.05."
   ]
  },
  {
   "cell_type": "markdown",
   "metadata": {},
   "source": [
    "For table 7, we aggregate the data into two datasets, one for document PG, and one for document ATM.\n",
    "Afterward we evaluate for each (again with the Mann-Whitney U test) whether there is a statistically significant difference between each variable (`Time`, `Defects`, `Efficiency`, `Rate`)."
   ]
  },
  {
   "cell_type": "code",
   "execution_count": 28,
   "metadata": {},
   "outputs": [
    {
     "name": "stdout",
     "output_type": "stream",
     "text": [
      "Mann-Whitney U Test for variable Time in PG in ATM document: U-statistics=51.0, p-value = 0.011355298125865448\n",
      "Mann-Whitney U Test for variable Defects in PG in ATM document: U-statistics=82.5, p-value = 0.21597411416320444\n",
      "Mann-Whitney U Test for variable Efficiency in PG in ATM document: U-statistics=138.0, p-value = 0.2683465527582466\n",
      "Mann-Whitney U Test for variable Rate in PG in ATM document: U-statistics=68.0, p-value = 0.06713848168803553\n"
     ]
    }
   ],
   "source": [
    "variables = ['Time', 'Defects', 'Efficiency', 'Rate']\n",
    "# convert column x into int\n",
    "df_7[variables[:-1]] = df_7[variables[:-1]].astype(int)\n",
    "df_7[variables[-1]] = df_7[variables[-1]].astype(float)\n",
    "\n",
    "# perform two sample t-test for each variable to check if the programming language has an effect on the variable\n",
    "for column in variables:\n",
    "    u, p = stats.mannwhitneyu(df_7[df_7['Document'] == 'PG'][column], df_7[df_7['Document'] == 'ATM'][column])\n",
    "    print(f\"Mann-Whitney U Test for variable {column} in PG in ATM document: U-statistics={u}, p-value = {p}\")"
   ]
  },
  {
   "cell_type": "markdown",
   "metadata": {},
   "source": [
    "### 6.3 Do the perspectives significantly impact the outcome variables?\n",
    "Here, we focus now on the perspectives. Hence, we split the dataset into each perspective ignoring the different documents. Then we analyse the difference between each outcome variable given the different perspectives. Since we compare three different variables, we employ like in 6.1 the kruskal-wallis test."
   ]
  },
  {
   "cell_type": "code",
   "execution_count": 29,
   "metadata": {},
   "outputs": [
    {
     "name": "stdout",
     "output_type": "stream",
     "text": [
      "Kruskal-Wallis for variable Time over all three perspectives: h-statistics=68.0, p-value = 0.1283584253184742\n",
      "Kruskal-Wallis for variable Defects over all three perspectives: h-statistics=68.0, p-value = 0.31533214931759795\n",
      "Kruskal-Wallis for variable Efficiency over all three perspectives: h-statistics=68.0, p-value = 0.824510188833907\n",
      "Kruskal-Wallis for variable Rate over all three perspectives: h-statistics=68.0, p-value = 0.34494439053893794\n"
     ]
    }
   ],
   "source": [
    "variables = ['Time', 'Defects', 'Efficiency', 'Rate']\n",
    "\n",
    "# perform two sample t-test for each variable to check if the programming language has an effect on the variable\n",
    "for column in variables:\n",
    "    h, p = stats.kruskal(df_7[df_7['Perspective'] == 'U'][column], df_7[df_7['Perspective'] == 'T'][column], df_7[df_7['Perspective'] == 'D'][column])\n",
    "    print(f\"Kruskal-Wallis for variable {column} over all three perspectives: h-statistics={u}, p-value = {p}\")"
   ]
  },
  {
   "cell_type": "markdown",
   "metadata": {},
   "source": [
    "**Interpretation**  \n",
    "For all variables the p-value is higher than 0.05, hence we can not reject the null-hypothesis. The perspectives seem to not have a significant impact on any of those variables."
   ]
  }
 ],
 "metadata": {
  "kernelspec": {
   "display_name": "Python 3",
   "language": "python",
   "name": "python3"
  },
  "language_info": {
   "codemirror_mode": {
    "name": "ipython",
    "version": 3
   },
   "file_extension": ".py",
   "mimetype": "text/x-python",
   "name": "python",
   "nbconvert_exporter": "python",
   "pygments_lexer": "ipython3",
   "version": "3.11.10"
  }
 },
 "nbformat": 4,
 "nbformat_minor": 2
}
